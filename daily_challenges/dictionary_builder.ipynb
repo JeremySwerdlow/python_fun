{
 "cells": [
  {
   "cell_type": "markdown",
   "metadata": {},
   "source": [
    "### Dictionary Builder\n",
    "\n",
    "Class definition to build and search a dictionary using a custom-built trie."
   ]
  },
  {
   "cell_type": "code",
   "execution_count": 1,
   "metadata": {
    "collapsed": true
   },
   "outputs": [],
   "source": [
    "# Simple Trie Node definition - children store the edge as the key, and next node as value\n",
    "class Trie(object):\n",
    "    def __init__(self, value=None):\n",
    "        self.value = value\n",
    "        self.children = dict()"
   ]
  },
  {
   "cell_type": "code",
   "execution_count": 2,
   "metadata": {
    "collapsed": true
   },
   "outputs": [],
   "source": [
    "class WordDictionary(object):\n",
    "\n",
    "    def __init__(self, tester=None):\n",
    "        self.root = Trie()\n",
    "        \n",
    "\n",
    "    def addWord(self, word):\n",
    "        def _addWord(node, rem_word):\n",
    "            if rem_word != '':\n",
    "                letter = rem_word[0]\n",
    "                rest = rem_word[1:]\n",
    "                \n",
    "                try:\n",
    "                    child = node.children[letter]\n",
    "                    _addWord(child, rest)\n",
    "                except:\n",
    "                    new_child = Trie(letter)\n",
    "                    node.children[letter] = new_child\n",
    "                    _addWord(new_child, rest)\n",
    "            else:\n",
    "                node.children[''] = Trie()\n",
    "                \n",
    "        _addWord(self.root, word)\n",
    "\n",
    "    def search(self, word):\n",
    "        def _search(node, rem_word):\n",
    "            if rem_word == '':\n",
    "                return ('' in node.children.keys())\n",
    "            \n",
    "            letter = rem_word[0]\n",
    "            rest = rem_word[1:]\n",
    "            if letter == '.':\n",
    "                for v in node.children.values():\n",
    "                    if _search(v, rest):\n",
    "                        return True\n",
    "                return False\n",
    "            else:\n",
    "                try:\n",
    "                    child = node.children[letter]\n",
    "                    return _search(child, rest)\n",
    "                except:\n",
    "                    return False\n",
    "        return _search(self.root, word)"
   ]
  },
  {
   "cell_type": "markdown",
   "metadata": {},
   "source": [
    "### Testing Cell:"
   ]
  },
  {
   "cell_type": "code",
   "execution_count": 3,
   "metadata": {},
   "outputs": [
    {
     "name": "stdout",
     "output_type": "stream",
     "text": [
      "True\n",
      "True\n",
      "True\n",
      "False\n",
      "True\n",
      "False\n",
      "True\n",
      "True\n",
      "True\n",
      "False\n"
     ]
    }
   ],
   "source": [
    "# create the dictionary\n",
    "d = WordDictionary()\n",
    "\n",
    "# add words to the dictionary\n",
    "d.addWord(\"a\")\n",
    "d.addWord(\"ab\")\n",
    "d.addWord(\"pab\")\n",
    "d.addWord(\"dad\")\n",
    "\n",
    "# search the dictionary, and return true or false if word or not\n",
    "print(d.search(\"a\"))\n",
    "print(d.search(\"a.\"))\n",
    "print(d.search(\"ab\"))\n",
    "print(d.search(\".a\"))\n",
    "print(d.search(\".b\"))\n",
    "print(d.search(\"ab.\"))\n",
    "print(d.search(\".\"))\n",
    "print(d.search(\"..\"))\n",
    "print(d.search(\".a.\"))\n",
    "print(d.search(\"la.\"))"
   ]
  }
 ],
 "metadata": {
  "kernelspec": {
   "display_name": "Python 3",
   "language": "python",
   "name": "python3"
  },
  "language_info": {
   "codemirror_mode": {
    "name": "ipython",
    "version": 3
   },
   "file_extension": ".py",
   "mimetype": "text/x-python",
   "name": "python",
   "nbconvert_exporter": "python",
   "pygments_lexer": "ipython3",
   "version": "3.6.3"
  }
 },
 "nbformat": 4,
 "nbformat_minor": 2
}
