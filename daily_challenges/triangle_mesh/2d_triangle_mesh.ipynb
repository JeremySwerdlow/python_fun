{
 "cells": [
  {
   "cell_type": "markdown",
   "metadata": {},
   "source": [
    "### Read the data from the file into two lists from which to create the triangles"
   ]
  },
  {
   "cell_type": "code",
   "execution_count": null,
   "metadata": {
    "collapsed": true
   },
   "outputs": [],
   "source": [
    "# ---------- file_to_sorted_tuples ----------\n",
    "# given a file name, read n number of lines of pairs of X, Y coords,\n",
    "# where n is stored in the first line, and the pairs are stored in\n",
    "# each consecutive line after\n",
    "def file_to_sorted_tuples(file_name):\n",
    "    tuples = []\n",
    "    open_file = open(file_name)\n",
    "    num_els = open_file.readline()\n",
    "    num_els = int(num_els)\n",
    "    for i in range(num_els):\n",
    "        x_y = open_file.readline()\n",
    "        x, y = int(x_y.split(\" \")[0]), int(x_y.split(\" \")[1])\n",
    "        tuples.append((x, y))\n",
    "    tuples = list(set(tuples))\n",
    "    tuples = sorted(tuples)\n",
    "    return tuples"
   ]
  },
  {
   "cell_type": "code",
   "execution_count": null,
   "metadata": {
    "collapsed": true
   },
   "outputs": [],
   "source": [
    "# ---------- tuples_to_lists ----------\n",
    "# given a list of two-tuples, split the list into two lists\n",
    "# and return the two\n",
    "def tuples_to_lists(list_of_tuples):\n",
    "    xs = [i[0] for i in list_of_tuples]\n",
    "    ys = [i[1] for i in list_of_tuples]\n",
    "    return xs, ys"
   ]
  },
  {
   "cell_type": "code",
   "execution_count": null,
   "metadata": {
    "collapsed": true
   },
   "outputs": [],
   "source": [
    "tuples = file_to_sorted_tuples(\"test_pairs.txt\")\n",
    "xs, ys = tuples_to_lists(tuples)"
   ]
  },
  {
   "cell_type": "markdown",
   "metadata": {},
   "source": [
    "### Identify Four Corners of Square"
   ]
  },
  {
   "cell_type": "code",
   "execution_count": null,
   "metadata": {
    "collapsed": true
   },
   "outputs": [],
   "source": [
    "def four_corners_finder(tuples):\n",
    "    tl = 0\n",
    "    br = 0\n",
    "    for t in tuples:\n",
    "        if t[0] == 0 and t[1] > tl:\n",
    "            tl = t[1]\n",
    "        if t[1] == 0 and t[0] > br:\n",
    "            br = t[0]\n",
    "    return (0,0), (br, 0), (0, tl), (br, tl)\n",
    "bl, br, tl, tr = four_corners_finder(tuples)"
   ]
  },
  {
   "cell_type": "code",
   "execution_count": null,
   "metadata": {},
   "outputs": [],
   "source": [
    "bl, br, tl, tr"
   ]
  },
  {
   "cell_type": "code",
   "execution_count": null,
   "metadata": {},
   "outputs": [],
   "source": [
    "def top_bot_points(tuples):\n",
    "    tops = {}\n",
    "    bots ={}\n",
    "    for p in tuples:\n",
    "        if p[0] in tops:\n",
    "            if p[1] > tops[p[0]]:\n",
    "                tops[p[0]] = p[1]\n",
    "            if p[1] < bots[p[0]]:\n",
    "                bots[p[0]] = p[1]\n",
    "        else:\n",
    "            tops[p[0]] = p[1]\n",
    "            bots[p[0]] = p[1]\n",
    "    return tops, bots\n",
    "tops, bots = top_bot_points(tuples)"
   ]
  },
  {
   "cell_type": "code",
   "execution_count": null,
   "metadata": {},
   "outputs": [],
   "source": [
    "tops, bots"
   ]
  },
  {
   "cell_type": "markdown",
   "metadata": {},
   "source": [
    "### Create the graph using Bokeh, for visual output"
   ]
  },
  {
   "cell_type": "code",
   "execution_count": null,
   "metadata": {
    "collapsed": true
   },
   "outputs": [],
   "source": [
    "from bokeh.plotting import figure, show, output_notebook"
   ]
  },
  {
   "cell_type": "code",
   "execution_count": null,
   "metadata": {
    "collapsed": true
   },
   "outputs": [],
   "source": [
    "from bokeh.palettes import viridis"
   ]
  },
  {
   "cell_type": "code",
   "execution_count": null,
   "metadata": {},
   "outputs": [],
   "source": [
    "output_notebook()"
   ]
  },
  {
   "cell_type": "code",
   "execution_count": null,
   "metadata": {},
   "outputs": [],
   "source": [
    "p = figure(plot_width=500, plot_height=500)\n",
    "\n",
    "for i in range(0, len(xs) - 2, 2):\n",
    "    p.patch(xs[i:i+3], ys[i:i+3], alpha=0.5, line_width=1, color=viridis(len(xs) - 2)[i])\n",
    "    \n",
    "show(p)"
   ]
  },
  {
   "cell_type": "code",
   "execution_count": null,
   "metadata": {
    "scrolled": false
   },
   "outputs": [],
   "source": [
    "help(dict)"
   ]
  },
  {
   "cell_type": "code",
   "execution_count": null,
   "metadata": {
    "collapsed": true
   },
   "outputs": [],
   "source": []
  },
  {
   "cell_type": "code",
   "execution_count": null,
   "metadata": {
    "collapsed": true
   },
   "outputs": [],
   "source": []
  }
 ],
 "metadata": {
  "kernelspec": {
   "display_name": "Python 3",
   "language": "python",
   "name": "python3"
  },
  "language_info": {
   "codemirror_mode": {
    "name": "ipython",
    "version": 3
   },
   "file_extension": ".py",
   "mimetype": "text/x-python",
   "name": "python",
   "nbconvert_exporter": "python",
   "pygments_lexer": "ipython3",
   "version": "3.6.3"
  }
 },
 "nbformat": 4,
 "nbformat_minor": 2
}
