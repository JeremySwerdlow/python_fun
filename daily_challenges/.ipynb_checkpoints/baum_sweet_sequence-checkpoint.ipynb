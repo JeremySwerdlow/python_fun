{
 "cells": [
  {
   "cell_type": "markdown",
   "metadata": {},
   "source": [
    "### Baum-Sweet Sequence"
   ]
  },
  {
   "cell_type": "markdown",
   "metadata": {},
   "source": [
    "Given a decimal integer, the Baum-Sweet Sequence returns either 0 or 1, depending on whether or not there are any odd-length number of consecutive 0's in its binary format.\n",
    "\n",
    "For example, if 12 was the input, the BSS would return 0, as its binary representation is 1100, which contains no odd-length consectuive 0's. However, 11 would, as its binary representation is 1011, which has a 0 by itself."
   ]
  },
  {
   "cell_type": "code",
   "execution_count": 18,
   "metadata": {},
   "outputs": [],
   "source": [
    "def int_to_bin_string(integer):\n",
    "    return bin(integer)[2:]"
   ]
  },
  {
   "cell_type": "code",
   "execution_count": 29,
   "metadata": {
    "collapsed": true
   },
   "outputs": [],
   "source": [
    "def BSS(integer):\n",
    "    if any([len(i) % 2 == 1 for i in int_to_bin_string(integer).split('1')]):\n",
    "        return 1\n",
    "    return 0"
   ]
  },
  {
   "cell_type": "code",
   "execution_count": 35,
   "metadata": {
    "scrolled": true
   },
   "outputs": [],
   "source": [
    "def testing():\n",
    "    print('binary:\\tBSS return:')\n",
    "    for i in range(10):\n",
    "        print(int_to_bin_string(i), '\\t', BSS(i))"
   ]
  },
  {
   "cell_type": "code",
   "execution_count": 36,
   "metadata": {},
   "outputs": [
    {
     "name": "stdout",
     "output_type": "stream",
     "text": [
      "binary:\tBSS return:\n",
      "0 \t 1\n",
      "1 \t 0\n",
      "10 \t 1\n",
      "11 \t 0\n",
      "100 \t 0\n",
      "101 \t 1\n",
      "110 \t 1\n",
      "111 \t 0\n",
      "1000 \t 1\n",
      "1001 \t 0\n"
     ]
    }
   ],
   "source": [
    "testing()"
   ]
  },
  {
   "cell_type": "code",
   "execution_count": null,
   "metadata": {
    "collapsed": true
   },
   "outputs": [],
   "source": []
  }
 ],
 "metadata": {
  "kernelspec": {
   "display_name": "Python 3",
   "language": "python",
   "name": "python3"
  },
  "language_info": {
   "codemirror_mode": {
    "name": "ipython",
    "version": 3
   },
   "file_extension": ".py",
   "mimetype": "text/x-python",
   "name": "python",
   "nbconvert_exporter": "python",
   "pygments_lexer": "ipython3",
   "version": "3.6.3"
  }
 },
 "nbformat": 4,
 "nbformat_minor": 2
}
